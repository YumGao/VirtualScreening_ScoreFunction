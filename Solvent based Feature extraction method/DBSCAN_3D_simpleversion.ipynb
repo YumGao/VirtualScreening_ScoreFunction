{
 "cells": [
  {
   "cell_type": "code",
   "execution_count": 1,
   "id": "7a8157ea",
   "metadata": {},
   "outputs": [],
   "source": [
    "import numpy as np\n",
    "import matplotlib.pyplot as plt\n",
    "size = 30"
   ]
  },
  {
   "cell_type": "code",
   "execution_count": 8,
   "id": "a497c4b9",
   "metadata": {},
   "outputs": [],
   "source": [
    "def distEuclid(x,y):\n",
    "    dis =  np.sqrt(np.sum((x-y)**2))\n",
    "    return dis\n",
    "'''x = np.array([4,2,3])\n",
    "y = np.array([0,2,0])\n",
    "distEuclid(x,y) # 5.0'''"
   ]
  },
  {
   "cell_type": "code",
   "execution_count": 15,
   "id": "cba6dedc",
   "metadata": {},
   "outputs": [],
   "source": [
    "def genDataset(n,dim):\n",
    "    data = []\n",
    "    while len(data) < n:\n",
    "        p = np.around(np.random.rand(dim)*size, decimals=2)\n",
    "        data.append(p)\n",
    "    return data\n",
    "    "
   ]
  },
  {
   "cell_type": "code",
   "execution_count": 16,
   "id": "ae9690ba",
   "metadata": {},
   "outputs": [
    {
     "data": {
      "text/plain": [
       "[array([21.5 , 11.7 , 11.13]),\n",
       " array([ 9.3 , 24.74,  4.64]),\n",
       " array([24.48, 14.97, 15.49]),\n",
       " array([ 5.58, 23.45,  7.08]),\n",
       " array([15.74, 26.94,  5.14]),\n",
       " array([10.89, 13.74, 13.27]),\n",
       " array([17.12, 21.93, 17.44]),\n",
       " array([16.38,  6.1 , 11.59]),\n",
       " array([27.96,  4.76, 19.08]),\n",
       " array([13.23, 14.04, 12.89])]"
      ]
     },
     "execution_count": 16,
     "metadata": {},
     "output_type": "execute_result"
    }
   ],
   "source": [
    "genDataset(10,3)"
   ]
  },
  {
   "cell_type": "code",
   "execution_count": 29,
   "id": "39389fd5",
   "metadata": {},
   "outputs": [],
   "source": [
    "def isNeighbor(x,y,eps):\n",
    "    return distEuclid(x,y)<=eps\n",
    "#get dots in one's neighbor domain\n",
    "def getSeedPos(pos,data,eps):\n",
    "    seed = []\n",
    "    for p in range(len(data)):\n",
    "        if isNeighbor(data[p],data[pos],eps):\n",
    "            seed.append(p)\n",
    "    return seed\n",
    "#get core point list\n",
    "def getCorePointsPos(data,eps,minpts):\n",
    "    cpoints = []\n",
    "    for pos in range(len(data)):\n",
    "        if len(getSeedPos(pos,data,eps)) >= minpts:\n",
    "            cpoints.append(pos)\n",
    "            \n",
    "    return cpoints\n",
    "def getCluster(data,eps,minpts):\n",
    "    corePos = getCorePointsPos(data,eps,minpts)\n",
    "    unvisited = list(range(len(data)))\n",
    "    cluster = {}\n",
    "    num = 0\n",
    "    for pos in corePos:\n",
    "        if pos not in unvisited:\n",
    "            continue\n",
    "        clusterpoint = []\n",
    "        clusterpoint.append(pos)\n",
    "        seedlist = getSeedPos(pos,data,eps)\n",
    "        unvisited.remove(pos)\n",
    "        while seedlist:\n",
    "            p = seedlist.pop(0)\n",
    "            if p not in unvisited:\n",
    "                continue\n",
    "            unvisited.remove(p)\n",
    "            clusterpoint.append(p)\n",
    "            if p in corePos:\n",
    "                seedlist.extend(getSeedPos(p,data,eps))\n",
    "        cluster[num] = clusterpoint\n",
    "        num+=1\n",
    "    cluster[\"noisy\"] = unvisited\n",
    "    return cluster\n"
   ]
  },
  {
   "cell_type": "code",
   "execution_count": 47,
   "id": "ac557849",
   "metadata": {},
   "outputs": [],
   "source": [
    "data = np.array(genDataset(80,3))\n"
   ]
  },
  {
   "cell_type": "code",
   "execution_count": 49,
   "id": "a951f713",
   "metadata": {},
   "outputs": [
    {
     "data": {
      "text/plain": [
       "{0: [0,\n",
       "  40,\n",
       "  46,\n",
       "  56,\n",
       "  62,\n",
       "  63,\n",
       "  51,\n",
       "  53,\n",
       "  67,\n",
       "  45,\n",
       "  74,\n",
       "  16,\n",
       "  43,\n",
       "  69,\n",
       "  73,\n",
       "  7,\n",
       "  41,\n",
       "  33,\n",
       "  14,\n",
       "  58,\n",
       "  77,\n",
       "  1,\n",
       "  44,\n",
       "  50,\n",
       "  72,\n",
       "  65,\n",
       "  68,\n",
       "  34,\n",
       "  4,\n",
       "  5,\n",
       "  23,\n",
       "  38,\n",
       "  57,\n",
       "  75,\n",
       "  47,\n",
       "  25,\n",
       "  21,\n",
       "  10,\n",
       "  52,\n",
       "  64,\n",
       "  60,\n",
       "  9,\n",
       "  22,\n",
       "  49,\n",
       "  59,\n",
       "  71,\n",
       "  76,\n",
       "  12,\n",
       "  30,\n",
       "  35],\n",
       " 1: [2, 78, 36, 42, 55, 70, 79, 18, 3, 24, 19, 61],\n",
       " 2: [6, 27],\n",
       " 3: [8, 32, 39, 66],\n",
       " 4: [11, 13, 37],\n",
       " 5: [15, 54, 28],\n",
       " 6: [17, 20],\n",
       " 7: [26, 29, 31, 48],\n",
       " 'noisy': []}"
      ]
     },
     "execution_count": 49,
     "metadata": {},
     "output_type": "execute_result"
    }
   ],
   "source": [
    "cl = getCluster(data,7,2)\n",
    "cl"
   ]
  },
  {
   "cell_type": "code",
   "execution_count": 38,
   "id": "a4c57ab6",
   "metadata": {},
   "outputs": [
    {
     "data": {
      "text/plain": [
       "array([[19.76, 18.96, 24.09],\n",
       "       [ 7.36, 22.96,  6.88],\n",
       "       [17.38, 24.6 , 13.  ],\n",
       "       [14.83, 18.45, 26.63],\n",
       "       [ 2.36, 28.87,  7.55],\n",
       "       [22.  , 25.14, 21.32],\n",
       "       [ 6.76, 13.19,  3.27],\n",
       "       [29.23, 19.39,  5.16],\n",
       "       [17.13, 22.52,  3.58],\n",
       "       [29.8 , 20.51, 11.43],\n",
       "       [ 0.66, 13.97, 21.55],\n",
       "       [18.62,  2.78,  5.17],\n",
       "       [ 7.69, 22.48, 27.23],\n",
       "       [ 1.42, 15.7 , 28.61],\n",
       "       [19.05,  9.36,  9.21],\n",
       "       [21.55, 14.39, 27.32],\n",
       "       [16.49, 15.28, 13.38],\n",
       "       [29.66, 25.88, 18.73],\n",
       "       [ 2.89,  0.88, 23.17],\n",
       "       [11.87, 14.11,  4.36],\n",
       "       [ 7.06, 10.84, 13.96],\n",
       "       [24.9 , 22.18, 14.95],\n",
       "       [27.5 ,  3.04, 23.02],\n",
       "       [12.26, 15.24,  3.37],\n",
       "       [19.52, 28.98,  6.5 ],\n",
       "       [10.38, 24.84,  8.7 ],\n",
       "       [19.96, 20.34, 28.34],\n",
       "       [ 1.4 , 18.21,  4.69],\n",
       "       [ 8.95, 16.63, 11.89],\n",
       "       [15.48, 28.44, 20.23],\n",
       "       [21.07, 19.8 ,  2.34],\n",
       "       [15.22, 13.14, 15.9 ],\n",
       "       [26.73, 15.19, 18.87],\n",
       "       [26.51,  3.75, 25.1 ],\n",
       "       [ 5.93,  4.58,  1.72],\n",
       "       [28.33, 22.92,  3.16],\n",
       "       [ 8.2 , 29.39,  2.32],\n",
       "       [21.51, 17.89, 26.39],\n",
       "       [24.29, 11.31,  2.54],\n",
       "       [19.83, 11.12, 12.38],\n",
       "       [ 7.17, 25.73,  2.86],\n",
       "       [ 5.48,  5.73, 18.23],\n",
       "       [ 2.89,  4.71, 21.38],\n",
       "       [11.24, 13.52, 29.9 ],\n",
       "       [22.43,  6.16,  2.54],\n",
       "       [10.01, 25.51,  0.24],\n",
       "       [10.35, 18.66, 22.15],\n",
       "       [16.21,  3.94, 16.77],\n",
       "       [16.14, 10.82, 11.19],\n",
       "       [18.03, 15.73,  3.03],\n",
       "       [ 1.69, 19.29,  0.85],\n",
       "       [ 7.77,  0.26, 12.35],\n",
       "       [26.44, 28.75,  0.82],\n",
       "       [22.53, 12.44, 22.17],\n",
       "       [27.04,  8.48, 29.93],\n",
       "       [ 8.12, 13.85, 12.28],\n",
       "       [ 8.68, 28.52,  5.24],\n",
       "       [11.58, 26.85, 18.53],\n",
       "       [21.09,  5.89, 25.2 ],\n",
       "       [10.54, 29.49,  4.07],\n",
       "       [ 3.32, 18.22, 12.24],\n",
       "       [29.77, 10.02, 12.56],\n",
       "       [11.39, 21.84,  6.36],\n",
       "       [ 6.5 ,  3.97, 25.85],\n",
       "       [ 4.44, 11.17, 19.97],\n",
       "       [ 8.96,  2.18, 19.88],\n",
       "       [ 9.14, 22.13, 12.73],\n",
       "       [ 4.89, 18.9 ,  9.31],\n",
       "       [27.93, 11.66,  1.03],\n",
       "       [ 9.58, 27.17,  3.35],\n",
       "       [26.31, 28.91, 17.59],\n",
       "       [20.97,  9.19, 22.85],\n",
       "       [18.84,  9.58, 21.39],\n",
       "       [11.38, 23.49, 13.31],\n",
       "       [10.25, 21.15,  3.87],\n",
       "       [13.55, 28.51, 25.99],\n",
       "       [29.45, 10.21,  6.83],\n",
       "       [23.65, 14.48,  8.59],\n",
       "       [13.84,  1.36,  2.93],\n",
       "       [ 7.72, 15.22,  0.24]])"
      ]
     },
     "execution_count": 38,
     "metadata": {},
     "output_type": "execute_result"
    }
   ],
   "source": [
    "data"
   ]
  },
  {
   "cell_type": "code",
   "execution_count": null,
   "id": "8facdd3c",
   "metadata": {},
   "outputs": [],
   "source": []
  }
 ],
 "metadata": {
  "kernelspec": {
   "display_name": "Python 3 (ipykernel)",
   "language": "python",
   "name": "python3"
  },
  "language_info": {
   "codemirror_mode": {
    "name": "ipython",
    "version": 3
   },
   "file_extension": ".py",
   "mimetype": "text/x-python",
   "name": "python",
   "nbconvert_exporter": "python",
   "pygments_lexer": "ipython3",
   "version": "3.9.7"
  }
 },
 "nbformat": 4,
 "nbformat_minor": 5
}
