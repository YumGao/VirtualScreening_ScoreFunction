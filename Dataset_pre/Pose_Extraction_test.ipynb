{
 "cells": [
  {
   "cell_type": "code",
   "execution_count": 2,
   "id": "671b3845",
   "metadata": {},
   "outputs": [],
   "source": [
    "import pandas as pd\n",
    "import numpy as np\n",
    "from pandas_ods_reader import read_ods\n",
    "#import glob\n",
    "import os"
   ]
  },
  {
   "cell_type": "code",
   "execution_count": 3,
   "id": "05356ee6",
   "metadata": {},
   "outputs": [],
   "source": [
    "def pdbqtModelExtract(input_file,Model_No,output_file):\n",
    "    f = open(input_file,\"r\")\n",
    "    tx = f.read()\n",
    "    txt = tx.replace(\"MODEL\", \"&+MODEL\")\n",
    "    txt_l = txt.split(\"&+\")\n",
    "    f.close()\n",
    "    nex_f = open(output_file, \"w\")#.read()\n",
    "    nex_f.write(txt_l[Model_No])\n",
    "    nex_f.close()\n",
    "    "
   ]
  },
  {
   "cell_type": "code",
   "execution_count": 6,
   "id": "91ec4393",
   "metadata": {},
   "outputs": [],
   "source": [
    "#original info data from ods file\n",
    "df2 = read_ods(\"Dataset_Info.ods\", 2)\n",
    "df3 = read_ods(\"Dataset_Info.ods\", 3)\n",
    "#choose ligand pose used in multi-pose model\n",
    "df_decoy = df3[df3[\"Use_in_models_58\"] == 1]\n",
    "df_rdkit = df2[df2[\"Use_in_models_58\"] == 1]\n",
    "df_rdkit = df_rdkit.rename(columns={\"PDBCode\":\"PDB code\"})\n",
    "df_PDB_ori = pd.concat([df_rdkit[[\"Pose name\",\"PDB code\"]],df_decoy[[\"Pose name\",\"PDB code\"]]], axis=0, ignore_index=True)\n",
    "#save the info data(pose_name and pdb_code) for further usage\n",
    "df_PDB_ori.to_csv(\"Selected_PDBpose_info.csv\", index=False)"
   ]
  },
  {
   "cell_type": "code",
   "execution_count": 10,
   "id": "e1651e95",
   "metadata": {},
   "outputs": [
    {
     "data": {
      "text/html": [
       "<div>\n",
       "<style scoped>\n",
       "    .dataframe tbody tr th:only-of-type {\n",
       "        vertical-align: middle;\n",
       "    }\n",
       "\n",
       "    .dataframe tbody tr th {\n",
       "        vertical-align: top;\n",
       "    }\n",
       "\n",
       "    .dataframe thead th {\n",
       "        text-align: right;\n",
       "    }\n",
       "</style>\n",
       "<table border=\"1\" class=\"dataframe\">\n",
       "  <thead>\n",
       "    <tr style=\"text-align: right;\">\n",
       "      <th></th>\n",
       "      <th>Pose name</th>\n",
       "    </tr>\n",
       "    <tr>\n",
       "      <th>PDB code</th>\n",
       "      <th></th>\n",
       "    </tr>\n",
       "  </thead>\n",
       "  <tbody>\n",
       "    <tr>\n",
       "      <th>PDB_10gs</th>\n",
       "      <td>[10gs_rdkit_ligand_01, 10gs_rdkit_ligand_04, 1...</td>\n",
       "    </tr>\n",
       "    <tr>\n",
       "      <th>PDB_184l</th>\n",
       "      <td>[184l_rdkit_ligand_01, 184l_rdkit_ligand_02, 1...</td>\n",
       "    </tr>\n",
       "    <tr>\n",
       "      <th>PDB_185l</th>\n",
       "      <td>[185l_rdkit_ligand_01, 185l_rdkit_ligand_02, 1...</td>\n",
       "    </tr>\n",
       "    <tr>\n",
       "      <th>PDB_186l</th>\n",
       "      <td>[186l_rdkit_ligand_01, 186l_rdkit_ligand_02, 1...</td>\n",
       "    </tr>\n",
       "    <tr>\n",
       "      <th>PDB_187l</th>\n",
       "      <td>[187l_rdkit_ligand_01, 187l_rdkit_ligand_02, 1...</td>\n",
       "    </tr>\n",
       "    <tr>\n",
       "      <th>...</th>\n",
       "      <td>...</td>\n",
       "    </tr>\n",
       "    <tr>\n",
       "      <th>PDB_7std</th>\n",
       "      <td>[7std_rdkit_ligand_01, 7std_rdkit_ligand_03, 7...</td>\n",
       "    </tr>\n",
       "    <tr>\n",
       "      <th>PDB_7upj</th>\n",
       "      <td>[7upj_rdkit_ligand_01, 7upj_rdkit_ligand_02, 7...</td>\n",
       "    </tr>\n",
       "    <tr>\n",
       "      <th>PDB_8cpa</th>\n",
       "      <td>[8cpa_rdkit_ligand_04, 8cpa_rdkit_ligand_07, 8...</td>\n",
       "    </tr>\n",
       "    <tr>\n",
       "      <th>PDB_966c</th>\n",
       "      <td>[966c_rdkit_ligand_01, 966c_rdkit_ligand_04, 9...</td>\n",
       "    </tr>\n",
       "    <tr>\n",
       "      <th>PDB_9abp</th>\n",
       "      <td>[9abp_rdkit_ligand_03, 9abp_rdkit_ligand_05, 9...</td>\n",
       "    </tr>\n",
       "  </tbody>\n",
       "</table>\n",
       "<p>5102 rows × 1 columns</p>\n",
       "</div>"
      ],
      "text/plain": [
       "                                                  Pose name\n",
       "PDB code                                                   \n",
       "PDB_10gs  [10gs_rdkit_ligand_01, 10gs_rdkit_ligand_04, 1...\n",
       "PDB_184l  [184l_rdkit_ligand_01, 184l_rdkit_ligand_02, 1...\n",
       "PDB_185l  [185l_rdkit_ligand_01, 185l_rdkit_ligand_02, 1...\n",
       "PDB_186l  [186l_rdkit_ligand_01, 186l_rdkit_ligand_02, 1...\n",
       "PDB_187l  [187l_rdkit_ligand_01, 187l_rdkit_ligand_02, 1...\n",
       "...                                                     ...\n",
       "PDB_7std  [7std_rdkit_ligand_01, 7std_rdkit_ligand_03, 7...\n",
       "PDB_7upj  [7upj_rdkit_ligand_01, 7upj_rdkit_ligand_02, 7...\n",
       "PDB_8cpa  [8cpa_rdkit_ligand_04, 8cpa_rdkit_ligand_07, 8...\n",
       "PDB_966c  [966c_rdkit_ligand_01, 966c_rdkit_ligand_04, 9...\n",
       "PDB_9abp  [9abp_rdkit_ligand_03, 9abp_rdkit_ligand_05, 9...\n",
       "\n",
       "[5102 rows x 1 columns]"
      ]
     },
     "execution_count": 10,
     "metadata": {},
     "output_type": "execute_result"
    }
   ],
   "source": [
    "#read in info data and group by PDB_ID\n",
    "df_PDB_ori = pd.read_csv(\"Selected_PDBpose_info.csv\")\n",
    "df_PDB[\"Pose name\"] = df_PDB[\"Pose name\"].apply(lambda x: [x])\n",
    "df_PDB = df_PDB.groupby(\"PDB code\")[\"Pose name\"].apply(lambda x:np.concatenate(list(x))).reset_index()\n",
    "df_PDB = df_PDB.set_index(\"PDB code\")\n",
    "df_PDB"
   ]
  },
  {
   "cell_type": "code",
   "execution_count": 11,
   "id": "3a436105",
   "metadata": {},
   "outputs": [
    {
     "data": {
      "text/html": [
       "<div>\n",
       "<style scoped>\n",
       "    .dataframe tbody tr th:only-of-type {\n",
       "        vertical-align: middle;\n",
       "    }\n",
       "\n",
       "    .dataframe tbody tr th {\n",
       "        vertical-align: top;\n",
       "    }\n",
       "\n",
       "    .dataframe thead th {\n",
       "        text-align: right;\n",
       "    }\n",
       "</style>\n",
       "<table border=\"1\" class=\"dataframe\">\n",
       "  <thead>\n",
       "    <tr style=\"text-align: right;\">\n",
       "      <th></th>\n",
       "      <th>Pose name</th>\n",
       "    </tr>\n",
       "    <tr>\n",
       "      <th>PDB code</th>\n",
       "      <th></th>\n",
       "    </tr>\n",
       "  </thead>\n",
       "  <tbody>\n",
       "    <tr>\n",
       "      <th>PDB_10gs</th>\n",
       "      <td>[10gs_rdkit_ligand_01, 10gs_rdkit_ligand_04, 1...</td>\n",
       "    </tr>\n",
       "    <tr>\n",
       "      <th>PDB_184l</th>\n",
       "      <td>[184l_rdkit_ligand_01, 184l_rdkit_ligand_02, 1...</td>\n",
       "    </tr>\n",
       "  </tbody>\n",
       "</table>\n",
       "</div>"
      ],
      "text/plain": [
       "                                                  Pose name\n",
       "PDB code                                                   \n",
       "PDB_10gs  [10gs_rdkit_ligand_01, 10gs_rdkit_ligand_04, 1...\n",
       "PDB_184l  [184l_rdkit_ligand_01, 184l_rdkit_ligand_02, 1..."
      ]
     },
     "execution_count": 11,
     "metadata": {},
     "output_type": "execute_result"
    }
   ],
   "source": [
    "#test pose index info\n",
    "df_PDB[:2]"
   ]
  },
  {
   "cell_type": "code",
   "execution_count": 12,
   "id": "91e6a749",
   "metadata": {},
   "outputs": [
    {
     "name": "stdout",
     "output_type": "stream",
     "text": [
      "Done  PDB_10gs\n",
      "Done  PDB_184l\n"
     ]
    }
   ],
   "source": [
    "# pose extraction on the test set\n",
    "for pdb in df_PDB[:2].index:\n",
    "    print(\"Done \",pdb)\n",
    "    File_path = \"./Docked_PDBQTs_test/\"+pdb.split(\"_\")[1]+\"/ligands/\"\n",
    "    Output_path = \"./Docked_PDBQTs_out/\"+pdb.split(\"_\")[1]+\"/\"\n",
    "    if not os.path.exists(Output_path):\n",
    "        os.makedirs(Output_path)\n",
    "    pose_names = df_PDB.loc[pdb][0]\n",
    "    for pose_name in pose_names:\n",
    "        model_No = int(pose_name[-2:])\n",
    "        if \"rdkit\" in pose_name:\n",
    "            file_name = File_path + pose_name[:-2] + \"out.pdbqt\"\n",
    "        if \"decoy\" in pose_name:\n",
    "            file_name = File_path + pose_name[:11]+str(int(pose_name[11:13]))+\"_ligand.pdbqt\"\n",
    "        #extrate the listed No. of model from the file_name\n",
    "        file_extract = Output_path + pose_name + \".pdbqt\"\n",
    "        pdbqtModelExtract(file_name,model_No,file_extract)\n",
    "    #check file number for each pdb ID:\n",
    "    \n",
    "    file_ext_num = len(os.listdir(Output_path))\n",
    "    assert file_ext_num == len(pose_names)            \n"
   ]
  },
  {
   "cell_type": "code",
   "execution_count": null,
   "id": "cba74991",
   "metadata": {},
   "outputs": [],
   "source": []
  }
 ],
 "metadata": {
  "kernelspec": {
   "display_name": "Python 3 (ipykernel)",
   "language": "python",
   "name": "python3"
  },
  "language_info": {
   "codemirror_mode": {
    "name": "ipython",
    "version": 3
   },
   "file_extension": ".py",
   "mimetype": "text/x-python",
   "name": "python",
   "nbconvert_exporter": "python",
   "pygments_lexer": "ipython3",
   "version": "3.9.7"
  }
 },
 "nbformat": 4,
 "nbformat_minor": 5
}
