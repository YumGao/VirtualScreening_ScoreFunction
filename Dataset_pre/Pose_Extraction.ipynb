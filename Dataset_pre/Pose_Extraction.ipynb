{
 "cells": [
  {
   "cell_type": "code",
   "execution_count": 74,
   "id": "671b3845",
   "metadata": {},
   "outputs": [],
   "source": [
    "import pandas as pd\n",
    "import numpy as np\n",
    "from pandas_ods_reader import read_ods\n",
    "#import glob\n",
    "import os"
   ]
  },
  {
   "cell_type": "code",
   "execution_count": 2,
   "id": "05356ee6",
   "metadata": {},
   "outputs": [],
   "source": [
    "def pdbqtModelExtract(input_file,Model_No,output_file):\n",
    "    f = open(input_file,\"r\")\n",
    "    tx = f.read()\n",
    "    txt = tx.replace(\"MODEL\", \"&+MODEL\")\n",
    "    txt_l = txt.split(\"&+\")\n",
    "    f.close()\n",
    "    nex_f = open(output_file, \"w\")#.read()\n",
    "    nex_f.write(txt_l[Model_No])\n",
    "    nex_f.close()\n",
    "    "
   ]
  },
  {
   "cell_type": "code",
   "execution_count": null,
   "id": "58e93e64",
   "metadata": {},
   "outputs": [],
   "source": [
    "'''df1 = read_ods(\"Dataset_Info.ods\",1)\n",
    "S_ligand_train= df1[\"No_decoy_poses_available\"][df1[\"Dataset\"]==\"TRAIN\"]\n",
    "S_ligand_train.sum()\n",
    "S_ligand_test = df1[\"No_ligand_poses_available\"][df1[\"Dataset\"]==\"TEST\"]\n",
    "S_ligand_test.sum()'''"
   ]
  },
  {
   "cell_type": "code",
   "execution_count": 23,
   "id": "91ec4393",
   "metadata": {},
   "outputs": [],
   "source": [
    "#info data for rdkit used in multi-pose model\n",
    "df2 = read_ods(\"Dataset_Info.ods\", 2)\n",
    "df3 = read_ods(\"Dataset_Info.ods\", 3)\n",
    "df_decoy = df3[df3[\"Use_in_models_58\"] == 1]\n",
    "df_rdkit = df2[df2[\"Use_in_models_58\"] == 1]\n",
    "df_rdkit = df_rdkit.rename(columns={\"PDBCode\":\"PDB code\"})\n",
    "df_PDB = pd.concat([df_rdkit[[\"Pose name\",\"PDB code\"]],df_decoy[[\"Pose name\",\"PDB code\"]]], axis=0, ignore_index=True)\n"
   ]
  },
  {
   "cell_type": "code",
   "execution_count": 72,
   "id": "c4f30bb9",
   "metadata": {},
   "outputs": [
    {
     "data": {
      "text/html": [
       "<div>\n",
       "<style scoped>\n",
       "    .dataframe tbody tr th:only-of-type {\n",
       "        vertical-align: middle;\n",
       "    }\n",
       "\n",
       "    .dataframe tbody tr th {\n",
       "        vertical-align: top;\n",
       "    }\n",
       "\n",
       "    .dataframe thead th {\n",
       "        text-align: right;\n",
       "    }\n",
       "</style>\n",
       "<table border=\"1\" class=\"dataframe\">\n",
       "  <thead>\n",
       "    <tr style=\"text-align: right;\">\n",
       "      <th></th>\n",
       "      <th>Pose name</th>\n",
       "      <th>PDB code</th>\n",
       "    </tr>\n",
       "  </thead>\n",
       "  <tbody>\n",
       "    <tr>\n",
       "      <th>0</th>\n",
       "      <td>10gs_rdkit_ligand_01</td>\n",
       "      <td>PDB_10gs</td>\n",
       "    </tr>\n",
       "    <tr>\n",
       "      <th>1</th>\n",
       "      <td>10gs_rdkit_ligand_04</td>\n",
       "      <td>PDB_10gs</td>\n",
       "    </tr>\n",
       "    <tr>\n",
       "      <th>2</th>\n",
       "      <td>10gs_rdkit_ligand_05</td>\n",
       "      <td>PDB_10gs</td>\n",
       "    </tr>\n",
       "    <tr>\n",
       "      <th>3</th>\n",
       "      <td>10gs_rdkit_ligand_16</td>\n",
       "      <td>PDB_10gs</td>\n",
       "    </tr>\n",
       "    <tr>\n",
       "      <th>4</th>\n",
       "      <td>184l_rdkit_ligand_01</td>\n",
       "      <td>PDB_184l</td>\n",
       "    </tr>\n",
       "    <tr>\n",
       "      <th>...</th>\n",
       "      <td>...</td>\n",
       "      <td>...</td>\n",
       "    </tr>\n",
       "    <tr>\n",
       "      <th>75854</th>\n",
       "      <td>9abp_decoy_06_ligand_02</td>\n",
       "      <td>PDB_9abp</td>\n",
       "    </tr>\n",
       "    <tr>\n",
       "      <th>75855</th>\n",
       "      <td>9abp_decoy_07_ligand_02</td>\n",
       "      <td>PDB_9abp</td>\n",
       "    </tr>\n",
       "    <tr>\n",
       "      <th>75856</th>\n",
       "      <td>9abp_decoy_08_ligand_05</td>\n",
       "      <td>PDB_9abp</td>\n",
       "    </tr>\n",
       "    <tr>\n",
       "      <th>75857</th>\n",
       "      <td>9abp_decoy_09_ligand_02</td>\n",
       "      <td>PDB_9abp</td>\n",
       "    </tr>\n",
       "    <tr>\n",
       "      <th>75858</th>\n",
       "      <td>9abp_decoy_10_ligand_05</td>\n",
       "      <td>PDB_9abp</td>\n",
       "    </tr>\n",
       "  </tbody>\n",
       "</table>\n",
       "<p>75859 rows × 2 columns</p>\n",
       "</div>"
      ],
      "text/plain": [
       "                     Pose name  PDB code\n",
       "0         10gs_rdkit_ligand_01  PDB_10gs\n",
       "1         10gs_rdkit_ligand_04  PDB_10gs\n",
       "2         10gs_rdkit_ligand_05  PDB_10gs\n",
       "3         10gs_rdkit_ligand_16  PDB_10gs\n",
       "4         184l_rdkit_ligand_01  PDB_184l\n",
       "...                        ...       ...\n",
       "75854  9abp_decoy_06_ligand_02  PDB_9abp\n",
       "75855  9abp_decoy_07_ligand_02  PDB_9abp\n",
       "75856  9abp_decoy_08_ligand_05  PDB_9abp\n",
       "75857  9abp_decoy_09_ligand_02  PDB_9abp\n",
       "75858  9abp_decoy_10_ligand_05  PDB_9abp\n",
       "\n",
       "[75859 rows x 2 columns]"
      ]
     },
     "execution_count": 72,
     "metadata": {},
     "output_type": "execute_result"
    }
   ],
   "source": [
    "df_PDB"
   ]
  },
  {
   "cell_type": "code",
   "execution_count": 93,
   "id": "c8bbdbdb",
   "metadata": {},
   "outputs": [
    {
     "data": {
      "text/html": [
       "<div>\n",
       "<style scoped>\n",
       "    .dataframe tbody tr th:only-of-type {\n",
       "        vertical-align: middle;\n",
       "    }\n",
       "\n",
       "    .dataframe tbody tr th {\n",
       "        vertical-align: top;\n",
       "    }\n",
       "\n",
       "    .dataframe thead th {\n",
       "        text-align: right;\n",
       "    }\n",
       "</style>\n",
       "<table border=\"1\" class=\"dataframe\">\n",
       "  <thead>\n",
       "    <tr style=\"text-align: right;\">\n",
       "      <th></th>\n",
       "      <th>Pose name</th>\n",
       "      <th>PDB code</th>\n",
       "    </tr>\n",
       "  </thead>\n",
       "  <tbody>\n",
       "    <tr>\n",
       "      <th>0</th>\n",
       "      <td>[10gs_rdkit_ligand_01]</td>\n",
       "      <td>PDB_10gs</td>\n",
       "    </tr>\n",
       "    <tr>\n",
       "      <th>1</th>\n",
       "      <td>[10gs_rdkit_ligand_04]</td>\n",
       "      <td>PDB_10gs</td>\n",
       "    </tr>\n",
       "    <tr>\n",
       "      <th>2</th>\n",
       "      <td>[10gs_rdkit_ligand_05]</td>\n",
       "      <td>PDB_10gs</td>\n",
       "    </tr>\n",
       "    <tr>\n",
       "      <th>3</th>\n",
       "      <td>[10gs_rdkit_ligand_16]</td>\n",
       "      <td>PDB_10gs</td>\n",
       "    </tr>\n",
       "    <tr>\n",
       "      <th>4</th>\n",
       "      <td>[184l_rdkit_ligand_01]</td>\n",
       "      <td>PDB_184l</td>\n",
       "    </tr>\n",
       "    <tr>\n",
       "      <th>...</th>\n",
       "      <td>...</td>\n",
       "      <td>...</td>\n",
       "    </tr>\n",
       "    <tr>\n",
       "      <th>75854</th>\n",
       "      <td>[9abp_decoy_06_ligand_02]</td>\n",
       "      <td>PDB_9abp</td>\n",
       "    </tr>\n",
       "    <tr>\n",
       "      <th>75855</th>\n",
       "      <td>[9abp_decoy_07_ligand_02]</td>\n",
       "      <td>PDB_9abp</td>\n",
       "    </tr>\n",
       "    <tr>\n",
       "      <th>75856</th>\n",
       "      <td>[9abp_decoy_08_ligand_05]</td>\n",
       "      <td>PDB_9abp</td>\n",
       "    </tr>\n",
       "    <tr>\n",
       "      <th>75857</th>\n",
       "      <td>[9abp_decoy_09_ligand_02]</td>\n",
       "      <td>PDB_9abp</td>\n",
       "    </tr>\n",
       "    <tr>\n",
       "      <th>75858</th>\n",
       "      <td>[9abp_decoy_10_ligand_05]</td>\n",
       "      <td>PDB_9abp</td>\n",
       "    </tr>\n",
       "  </tbody>\n",
       "</table>\n",
       "<p>75859 rows × 2 columns</p>\n",
       "</div>"
      ],
      "text/plain": [
       "                       Pose name  PDB code\n",
       "0         [10gs_rdkit_ligand_01]  PDB_10gs\n",
       "1         [10gs_rdkit_ligand_04]  PDB_10gs\n",
       "2         [10gs_rdkit_ligand_05]  PDB_10gs\n",
       "3         [10gs_rdkit_ligand_16]  PDB_10gs\n",
       "4         [184l_rdkit_ligand_01]  PDB_184l\n",
       "...                          ...       ...\n",
       "75854  [9abp_decoy_06_ligand_02]  PDB_9abp\n",
       "75855  [9abp_decoy_07_ligand_02]  PDB_9abp\n",
       "75856  [9abp_decoy_08_ligand_05]  PDB_9abp\n",
       "75857  [9abp_decoy_09_ligand_02]  PDB_9abp\n",
       "75858  [9abp_decoy_10_ligand_05]  PDB_9abp\n",
       "\n",
       "[75859 rows x 2 columns]"
      ]
     },
     "execution_count": 93,
     "metadata": {},
     "output_type": "execute_result"
    }
   ],
   "source": [
    "#df_PDB[\"Pose name\"] = df_PDB[\"Pose name\"].apply(lambda x: [x])\n",
    "df_PDB"
   ]
  },
  {
   "cell_type": "code",
   "execution_count": 97,
   "id": "e1651e95",
   "metadata": {},
   "outputs": [
    {
     "data": {
      "text/html": [
       "<div>\n",
       "<style scoped>\n",
       "    .dataframe tbody tr th:only-of-type {\n",
       "        vertical-align: middle;\n",
       "    }\n",
       "\n",
       "    .dataframe tbody tr th {\n",
       "        vertical-align: top;\n",
       "    }\n",
       "\n",
       "    .dataframe thead th {\n",
       "        text-align: right;\n",
       "    }\n",
       "</style>\n",
       "<table border=\"1\" class=\"dataframe\">\n",
       "  <thead>\n",
       "    <tr style=\"text-align: right;\">\n",
       "      <th></th>\n",
       "      <th>Pose name</th>\n",
       "    </tr>\n",
       "    <tr>\n",
       "      <th>PDB code</th>\n",
       "      <th></th>\n",
       "    </tr>\n",
       "  </thead>\n",
       "  <tbody>\n",
       "    <tr>\n",
       "      <th>PDB_10gs</th>\n",
       "      <td>[10gs_rdkit_ligand_01, 10gs_rdkit_ligand_04, 1...</td>\n",
       "    </tr>\n",
       "    <tr>\n",
       "      <th>PDB_184l</th>\n",
       "      <td>[184l_rdkit_ligand_01, 184l_rdkit_ligand_02, 1...</td>\n",
       "    </tr>\n",
       "    <tr>\n",
       "      <th>PDB_185l</th>\n",
       "      <td>[185l_rdkit_ligand_01, 185l_rdkit_ligand_02, 1...</td>\n",
       "    </tr>\n",
       "    <tr>\n",
       "      <th>PDB_186l</th>\n",
       "      <td>[186l_rdkit_ligand_01, 186l_rdkit_ligand_02, 1...</td>\n",
       "    </tr>\n",
       "    <tr>\n",
       "      <th>PDB_187l</th>\n",
       "      <td>[187l_rdkit_ligand_01, 187l_rdkit_ligand_02, 1...</td>\n",
       "    </tr>\n",
       "    <tr>\n",
       "      <th>...</th>\n",
       "      <td>...</td>\n",
       "    </tr>\n",
       "    <tr>\n",
       "      <th>PDB_7std</th>\n",
       "      <td>[7std_rdkit_ligand_01, 7std_rdkit_ligand_03, 7...</td>\n",
       "    </tr>\n",
       "    <tr>\n",
       "      <th>PDB_7upj</th>\n",
       "      <td>[7upj_rdkit_ligand_01, 7upj_rdkit_ligand_02, 7...</td>\n",
       "    </tr>\n",
       "    <tr>\n",
       "      <th>PDB_8cpa</th>\n",
       "      <td>[8cpa_rdkit_ligand_04, 8cpa_rdkit_ligand_07, 8...</td>\n",
       "    </tr>\n",
       "    <tr>\n",
       "      <th>PDB_966c</th>\n",
       "      <td>[966c_rdkit_ligand_01, 966c_rdkit_ligand_04, 9...</td>\n",
       "    </tr>\n",
       "    <tr>\n",
       "      <th>PDB_9abp</th>\n",
       "      <td>[9abp_rdkit_ligand_03, 9abp_rdkit_ligand_05, 9...</td>\n",
       "    </tr>\n",
       "  </tbody>\n",
       "</table>\n",
       "<p>5102 rows × 1 columns</p>\n",
       "</div>"
      ],
      "text/plain": [
       "                                                  Pose name\n",
       "PDB code                                                   \n",
       "PDB_10gs  [10gs_rdkit_ligand_01, 10gs_rdkit_ligand_04, 1...\n",
       "PDB_184l  [184l_rdkit_ligand_01, 184l_rdkit_ligand_02, 1...\n",
       "PDB_185l  [185l_rdkit_ligand_01, 185l_rdkit_ligand_02, 1...\n",
       "PDB_186l  [186l_rdkit_ligand_01, 186l_rdkit_ligand_02, 1...\n",
       "PDB_187l  [187l_rdkit_ligand_01, 187l_rdkit_ligand_02, 1...\n",
       "...                                                     ...\n",
       "PDB_7std  [7std_rdkit_ligand_01, 7std_rdkit_ligand_03, 7...\n",
       "PDB_7upj  [7upj_rdkit_ligand_01, 7upj_rdkit_ligand_02, 7...\n",
       "PDB_8cpa  [8cpa_rdkit_ligand_04, 8cpa_rdkit_ligand_07, 8...\n",
       "PDB_966c  [966c_rdkit_ligand_01, 966c_rdkit_ligand_04, 9...\n",
       "PDB_9abp  [9abp_rdkit_ligand_03, 9abp_rdkit_ligand_05, 9...\n",
       "\n",
       "[5102 rows x 1 columns]"
      ]
     },
     "execution_count": 97,
     "metadata": {},
     "output_type": "execute_result"
    }
   ],
   "source": [
    "df_PDB = df_PDB.groupby(\"PDB code\")[\"Pose name\"].apply(lambda x:np.concatenate(list(x))).reset_index()\n",
    "df_PDB = df_PDB.set_index(\"PDB code\")\n",
    "df_PDB"
   ]
  },
  {
   "cell_type": "code",
   "execution_count": 99,
   "id": "17226fda",
   "metadata": {},
   "outputs": [
    {
     "name": "stdout",
     "output_type": "stream",
     "text": [
      "Pose name    [10gs_rdkit_ligand_01, 10gs_rdkit_ligand_04, 1...\n",
      "Name: PDB_10gs, dtype: object\n"
     ]
    }
   ],
   "source": [
    "df_PDB.loc[\"PDB_10gs\"]"
   ]
  },
  {
   "cell_type": "code",
   "execution_count": null,
   "id": "f2fc2b0a",
   "metadata": {},
   "outputs": [],
   "source": []
  },
  {
   "cell_type": "code",
   "execution_count": 77,
   "id": "4bd737ac",
   "metadata": {},
   "outputs": [],
   "source": []
  },
  {
   "cell_type": "code",
   "execution_count": 78,
   "id": "d735ca91",
   "metadata": {},
   "outputs": [],
   "source": []
  },
  {
   "cell_type": "code",
   "execution_count": 42,
   "id": "5898980f",
   "metadata": {},
   "outputs": [
    {
     "data": {
      "text/plain": [
       "'./Docked_PDBQTs/10gs/'"
      ]
     },
     "execution_count": 42,
     "metadata": {},
     "output_type": "execute_result"
    }
   ],
   "source": [
    "pdb = \"PDB_1a0q\"\n",
    "rdkit_file_path = \"./Docked_PDBQTs/\"+pdb.split(\"_\")[1]+\"/ligands/*.pdbqt\"\n",
    "rdkit_files = glob.glob(protein_file_path)"
   ]
  },
  {
   "cell_type": "code",
   "execution_count": 91,
   "id": "b47db8f3",
   "metadata": {},
   "outputs": [
    {
     "data": {
      "text/html": [
       "<div>\n",
       "<style scoped>\n",
       "    .dataframe tbody tr th:only-of-type {\n",
       "        vertical-align: middle;\n",
       "    }\n",
       "\n",
       "    .dataframe tbody tr th {\n",
       "        vertical-align: top;\n",
       "    }\n",
       "\n",
       "    .dataframe thead th {\n",
       "        text-align: right;\n",
       "    }\n",
       "</style>\n",
       "<table border=\"1\" class=\"dataframe\">\n",
       "  <thead>\n",
       "    <tr style=\"text-align: right;\">\n",
       "      <th></th>\n",
       "      <th>Pose name</th>\n",
       "      <th>PDB code</th>\n",
       "    </tr>\n",
       "  </thead>\n",
       "  <tbody>\n",
       "    <tr>\n",
       "      <th>0</th>\n",
       "      <td>[10gs_rdkit_ligand_01]</td>\n",
       "      <td>PDB_10gs</td>\n",
       "    </tr>\n",
       "    <tr>\n",
       "      <th>1</th>\n",
       "      <td>[10gs_rdkit_ligand_04]</td>\n",
       "      <td>PDB_10gs</td>\n",
       "    </tr>\n",
       "    <tr>\n",
       "      <th>2</th>\n",
       "      <td>[10gs_rdkit_ligand_05]</td>\n",
       "      <td>PDB_10gs</td>\n",
       "    </tr>\n",
       "    <tr>\n",
       "      <th>3</th>\n",
       "      <td>[10gs_rdkit_ligand_16]</td>\n",
       "      <td>PDB_10gs</td>\n",
       "    </tr>\n",
       "    <tr>\n",
       "      <th>4</th>\n",
       "      <td>[184l_rdkit_ligand_01]</td>\n",
       "      <td>PDB_184l</td>\n",
       "    </tr>\n",
       "    <tr>\n",
       "      <th>...</th>\n",
       "      <td>...</td>\n",
       "      <td>...</td>\n",
       "    </tr>\n",
       "    <tr>\n",
       "      <th>75854</th>\n",
       "      <td>[9abp_decoy_06_ligand_02]</td>\n",
       "      <td>PDB_9abp</td>\n",
       "    </tr>\n",
       "    <tr>\n",
       "      <th>75855</th>\n",
       "      <td>[9abp_decoy_07_ligand_02]</td>\n",
       "      <td>PDB_9abp</td>\n",
       "    </tr>\n",
       "    <tr>\n",
       "      <th>75856</th>\n",
       "      <td>[9abp_decoy_08_ligand_05]</td>\n",
       "      <td>PDB_9abp</td>\n",
       "    </tr>\n",
       "    <tr>\n",
       "      <th>75857</th>\n",
       "      <td>[9abp_decoy_09_ligand_02]</td>\n",
       "      <td>PDB_9abp</td>\n",
       "    </tr>\n",
       "    <tr>\n",
       "      <th>75858</th>\n",
       "      <td>[9abp_decoy_10_ligand_05]</td>\n",
       "      <td>PDB_9abp</td>\n",
       "    </tr>\n",
       "  </tbody>\n",
       "</table>\n",
       "<p>75859 rows × 2 columns</p>\n",
       "</div>"
      ],
      "text/plain": [
       "                       Pose name  PDB code\n",
       "0         [10gs_rdkit_ligand_01]  PDB_10gs\n",
       "1         [10gs_rdkit_ligand_04]  PDB_10gs\n",
       "2         [10gs_rdkit_ligand_05]  PDB_10gs\n",
       "3         [10gs_rdkit_ligand_16]  PDB_10gs\n",
       "4         [184l_rdkit_ligand_01]  PDB_184l\n",
       "...                          ...       ...\n",
       "75854  [9abp_decoy_06_ligand_02]  PDB_9abp\n",
       "75855  [9abp_decoy_07_ligand_02]  PDB_9abp\n",
       "75856  [9abp_decoy_08_ligand_05]  PDB_9abp\n",
       "75857  [9abp_decoy_09_ligand_02]  PDB_9abp\n",
       "75858  [9abp_decoy_10_ligand_05]  PDB_9abp\n",
       "\n",
       "[75859 rows x 2 columns]"
      ]
     },
     "execution_count": 91,
     "metadata": {},
     "output_type": "execute_result"
    }
   ],
   "source": [
    "df_PDB"
   ]
  },
  {
   "cell_type": "code",
   "execution_count": 112,
   "id": "afc4c091",
   "metadata": {},
   "outputs": [
    {
     "data": {
      "text/plain": [
       "14"
      ]
     },
     "execution_count": 112,
     "metadata": {},
     "output_type": "execute_result"
    }
   ],
   "source": [
    "len(df_PDB.loc[pdb][0])"
   ]
  },
  {
   "cell_type": "code",
   "execution_count": 113,
   "id": "064aad5f",
   "metadata": {},
   "outputs": [
    {
     "name": "stdout",
     "output_type": "stream",
     "text": [
      "10gs_rdkit_ligand_01\n",
      "10gs_rdkit_ligand_04\n",
      "10gs_rdkit_ligand_05\n",
      "10gs_rdkit_ligand_16\n",
      "10gs_decoy_01_ligand_04\n",
      "10gs_decoy_02_ligand_01\n",
      "10gs_decoy_03_ligand_02\n",
      "10gs_decoy_04_ligand_01\n",
      "10gs_decoy_05_ligand_05\n",
      "10gs_decoy_06_ligand_04\n",
      "10gs_decoy_07_ligand_03\n",
      "10gs_decoy_08_ligand_02\n",
      "10gs_decoy_09_ligand_04\n",
      "10gs_decoy_10_ligand_01\n"
     ]
    }
   ],
   "source": [
    "pdb = \"PDB_10gs\"\n",
    "pose_names = df_PDB.loc[pdb][0]\n",
    "for pose_name in pose_names:\n",
    "    print(pose_name)"
   ]
  },
  {
   "cell_type": "code",
   "execution_count": 126,
   "id": "cd30ec4a",
   "metadata": {},
   "outputs": [],
   "source": []
  },
  {
   "cell_type": "code",
   "execution_count": 130,
   "id": "2df92620",
   "metadata": {},
   "outputs": [
    {
     "ename": "TypeError",
     "evalue": "only size-1 arrays can be converted to Python scalars",
     "output_type": "error",
     "traceback": [
      "\u001b[0;31m---------------------------------------------------------------------------\u001b[0m",
      "\u001b[0;31mTypeError\u001b[0m                                 Traceback (most recent call last)",
      "\u001b[0;32m/var/folders/90/l9xngz2s75j56rpdt0179kcr0000gn/T/ipykernel_93789/2410753863.py\u001b[0m in \u001b[0;36m<module>\u001b[0;34m\u001b[0m\n\u001b[1;32m      2\u001b[0m \u001b[0mrdkit_file\u001b[0m \u001b[0;34m=\u001b[0m \u001b[0;34m\"10gs_rdkit_ligand_out.pdbqt\"\u001b[0m\u001b[0;34m\u001b[0m\u001b[0;34m\u001b[0m\u001b[0m\n\u001b[1;32m      3\u001b[0m \u001b[0mpose_name\u001b[0m\u001b[0;34m[\u001b[0m\u001b[0;34m:\u001b[0m\u001b[0;34m-\u001b[0m\u001b[0;36m2\u001b[0m\u001b[0;34m]\u001b[0m\u001b[0;34m+\u001b[0m\u001b[0;34m\"out.pdbqt\"\u001b[0m \u001b[0;34m==\u001b[0m \u001b[0mrdkit_file\u001b[0m\u001b[0;34m\u001b[0m\u001b[0;34m\u001b[0m\u001b[0m\n\u001b[0;32m----> 4\u001b[0;31m \u001b[0mint\u001b[0m\u001b[0;34m(\u001b[0m\u001b[0mpose_names\u001b[0m\u001b[0;34m[\u001b[0m\u001b[0;34m-\u001b[0m\u001b[0;36m2\u001b[0m\u001b[0;34m:\u001b[0m\u001b[0;34m]\u001b[0m\u001b[0;34m)\u001b[0m\u001b[0;34m\u001b[0m\u001b[0;34m\u001b[0m\u001b[0m\n\u001b[0m",
      "\u001b[0;31mTypeError\u001b[0m: only size-1 arrays can be converted to Python scalars"
     ]
    }
   ],
   "source": [
    "pose_name = \"10gs_rdkit_ligand_01\"\n",
    "rdkit_file = \"10gs_rdkit_ligand_out.pdbqt\"\n",
    "pose_name[:-2]+\"out.pdbqt\" == rdkit_file\n",
    "int(pose_names[-2:])"
   ]
  },
  {
   "cell_type": "code",
   "execution_count": 121,
   "id": "ca36e904",
   "metadata": {},
   "outputs": [
    {
     "data": {
      "text/plain": [
       "True"
      ]
     },
     "execution_count": 121,
     "metadata": {},
     "output_type": "execute_result"
    }
   ],
   "source": [
    "pose_name = \"10gs_decoy_09_ligand_04\"\n",
    "decoy_file = \"10gs_decoy_9_ligand.pdbqt\"\n",
    "pose_name[:11]+str(int(pose_name[11:13]))+\"_ligand.pdbqt\" == decoy_file"
   ]
  },
  {
   "cell_type": "code",
   "execution_count": 128,
   "id": "4cd26f98",
   "metadata": {},
   "outputs": [],
   "source": []
  },
  {
   "cell_type": "code",
   "execution_count": 135,
   "id": "91e6a749",
   "metadata": {},
   "outputs": [
    {
     "name": "stdout",
     "output_type": "stream",
     "text": [
      "PDB_10gs\n",
      "PDB_184l\n",
      "PDB_185l\n"
     ]
    },
    {
     "ename": "FileNotFoundError",
     "evalue": "[Errno 2] No such file or directory: './Docked_PDBQTs_test/185l/ligands/185l_rdkit_ligand_out.pdbqt'",
     "output_type": "error",
     "traceback": [
      "\u001b[0;31m---------------------------------------------------------------------------\u001b[0m",
      "\u001b[0;31mFileNotFoundError\u001b[0m                         Traceback (most recent call last)",
      "\u001b[0;32m/var/folders/90/l9xngz2s75j56rpdt0179kcr0000gn/T/ipykernel_93789/1638807297.py\u001b[0m in \u001b[0;36m<module>\u001b[0;34m\u001b[0m\n\u001b[1;32m     14\u001b[0m         \u001b[0;31m#extrate the listed No. of model from the file_name\u001b[0m\u001b[0;34m\u001b[0m\u001b[0;34m\u001b[0m\u001b[0m\n\u001b[1;32m     15\u001b[0m         \u001b[0mfile_extract\u001b[0m \u001b[0;34m=\u001b[0m \u001b[0mOutput_path\u001b[0m \u001b[0;34m+\u001b[0m \u001b[0mpose_name\u001b[0m \u001b[0;34m+\u001b[0m \u001b[0;34m\".pdbqt\"\u001b[0m\u001b[0;34m\u001b[0m\u001b[0;34m\u001b[0m\u001b[0m\n\u001b[0;32m---> 16\u001b[0;31m         \u001b[0mpdbqtModelExtract\u001b[0m\u001b[0;34m(\u001b[0m\u001b[0mfile_name\u001b[0m\u001b[0;34m,\u001b[0m\u001b[0mmodel_No\u001b[0m\u001b[0;34m,\u001b[0m\u001b[0mfile_extract\u001b[0m\u001b[0;34m)\u001b[0m\u001b[0;34m\u001b[0m\u001b[0;34m\u001b[0m\u001b[0m\n\u001b[0m\u001b[1;32m     17\u001b[0m     \u001b[0;31m#check file number for each pdb ID:\u001b[0m\u001b[0;34m\u001b[0m\u001b[0;34m\u001b[0m\u001b[0m\n\u001b[1;32m     18\u001b[0m \u001b[0;34m\u001b[0m\u001b[0m\n",
      "\u001b[0;32m/var/folders/90/l9xngz2s75j56rpdt0179kcr0000gn/T/ipykernel_93789/97241523.py\u001b[0m in \u001b[0;36mpdbqtModelExtract\u001b[0;34m(input_file, Model_No, output_file)\u001b[0m\n\u001b[1;32m      1\u001b[0m \u001b[0;32mdef\u001b[0m \u001b[0mpdbqtModelExtract\u001b[0m\u001b[0;34m(\u001b[0m\u001b[0minput_file\u001b[0m\u001b[0;34m,\u001b[0m\u001b[0mModel_No\u001b[0m\u001b[0;34m,\u001b[0m\u001b[0moutput_file\u001b[0m\u001b[0;34m)\u001b[0m\u001b[0;34m:\u001b[0m\u001b[0;34m\u001b[0m\u001b[0;34m\u001b[0m\u001b[0m\n\u001b[0;32m----> 2\u001b[0;31m     \u001b[0mf\u001b[0m \u001b[0;34m=\u001b[0m \u001b[0mopen\u001b[0m\u001b[0;34m(\u001b[0m\u001b[0minput_file\u001b[0m\u001b[0;34m,\u001b[0m\u001b[0;34m\"r\"\u001b[0m\u001b[0;34m)\u001b[0m\u001b[0;34m\u001b[0m\u001b[0;34m\u001b[0m\u001b[0m\n\u001b[0m\u001b[1;32m      3\u001b[0m     \u001b[0mtx\u001b[0m \u001b[0;34m=\u001b[0m \u001b[0mf\u001b[0m\u001b[0;34m.\u001b[0m\u001b[0mread\u001b[0m\u001b[0;34m(\u001b[0m\u001b[0;34m)\u001b[0m\u001b[0;34m\u001b[0m\u001b[0;34m\u001b[0m\u001b[0m\n\u001b[1;32m      4\u001b[0m     \u001b[0mtxt\u001b[0m \u001b[0;34m=\u001b[0m \u001b[0mtx\u001b[0m\u001b[0;34m.\u001b[0m\u001b[0mreplace\u001b[0m\u001b[0;34m(\u001b[0m\u001b[0;34m\"MODEL\"\u001b[0m\u001b[0;34m,\u001b[0m \u001b[0;34m\"&+MODEL\"\u001b[0m\u001b[0;34m)\u001b[0m\u001b[0;34m\u001b[0m\u001b[0;34m\u001b[0m\u001b[0m\n\u001b[1;32m      5\u001b[0m     \u001b[0mtxt_l\u001b[0m \u001b[0;34m=\u001b[0m \u001b[0mtxt\u001b[0m\u001b[0;34m.\u001b[0m\u001b[0msplit\u001b[0m\u001b[0;34m(\u001b[0m\u001b[0;34m\"&+\"\u001b[0m\u001b[0;34m)\u001b[0m\u001b[0;34m\u001b[0m\u001b[0;34m\u001b[0m\u001b[0m\n",
      "\u001b[0;31mFileNotFoundError\u001b[0m: [Errno 2] No such file or directory: './Docked_PDBQTs_test/185l/ligands/185l_rdkit_ligand_out.pdbqt'"
     ]
    }
   ],
   "source": [
    "for pdb in df_PDB.index:\n",
    "    print(pdb)\n",
    "    File_path = \"./Docked_PDBQTs_test/\"+pdb.split(\"_\")[1]+\"/ligands/\"\n",
    "    Output_path = \"./Docked_PDBQTs_out/\"+pdb.split(\"_\")[1]+\"/\"\n",
    "    if not os.path.exists(Output_path):\n",
    "        os.makedirs(Output_path)\n",
    "    pose_names = df_PDB.loc[pdb][0]\n",
    "    for pose_name in pose_names:\n",
    "        model_No = int(pose_name[-2:])\n",
    "        if \"rdkit\" in pose_name:\n",
    "            file_name = File_path + pose_name[:-2] + \"out.pdbqt\"\n",
    "        if \"decoy\" in pose_name:\n",
    "            file_name = File_path + pose_name[:11]+str(int(pose_name[11:13]))+\"_ligand.pdbqt\"\n",
    "        #extrate the listed No. of model from the file_name\n",
    "        file_extract = Output_path + pose_name + \".pdbqt\"\n",
    "        pdbqtModelExtract(file_name,model_No,file_extract)\n",
    "    #check file number for each pdb ID:\n",
    "    \n",
    "    file_ext_num = len(os.listdir(Output_path))\n",
    "    assert file_ext_num == len(pose_names)\n",
    "    \n",
    "    \n",
    "        \n",
    "        \n",
    "        \n",
    "            \n"
   ]
  },
  {
   "cell_type": "code",
   "execution_count": null,
   "id": "9d2ed9bb",
   "metadata": {},
   "outputs": [],
   "source": [
    "    rdkit_files = glob.glob(rdkit_file_path)\n",
    "    for i in rdkit_files:\n",
    "        print(i)\n",
    "    "
   ]
  },
  {
   "cell_type": "code",
   "execution_count": null,
   "id": "630a0d83",
   "metadata": {},
   "outputs": [],
   "source": [
    "for in file\n",
    "    for pose in []:\n",
    "        分别提取“Model”写入新file\n",
    "        nex_f = open(\"\", \"w\")\n",
    "        nex_f = txt_l\n",
    "    \n",
    "\n"
   ]
  }
 ],
 "metadata": {
  "kernelspec": {
   "display_name": "Python 3 (ipykernel)",
   "language": "python",
   "name": "python3"
  },
  "language_info": {
   "codemirror_mode": {
    "name": "ipython",
    "version": 3
   },
   "file_extension": ".py",
   "mimetype": "text/x-python",
   "name": "python",
   "nbconvert_exporter": "python",
   "pygments_lexer": "ipython3",
   "version": "3.9.7"
  }
 },
 "nbformat": 4,
 "nbformat_minor": 5
}
