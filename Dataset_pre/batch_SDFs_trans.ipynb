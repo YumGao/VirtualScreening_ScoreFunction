{
 "cells": [
  {
   "cell_type": "code",
   "execution_count": 2,
   "id": "0c04fd0c",
   "metadata": {},
   "outputs": [],
   "source": [
    "import pandas as pd\n",
    "import numpy as np\n",
    "import os"
   ]
  },
  {
   "cell_type": "code",
   "execution_count": 39,
   "id": "7736b610",
   "metadata": {},
   "outputs": [
    {
     "name": "stdout",
     "output_type": "stream",
     "text": [
      "10gs\n",
      "./Docked_SDFs_out/184l/\n",
      "184l\n",
      "./Docked_SDFs_out/10gs/\n"
     ]
    }
   ],
   "source": [
    "#prepare the output path for converted files\n",
    "data_dir = './Docked_PDBQTs_out/'\n",
    "result_dir = './Docked_SDFs_out/'\n",
    "cmds = \"\"\n",
    "if not os.path.exists(result_dir):\n",
    "    os.makedirs(result_dir)\n",
    "PDBs = os.listdir(data_dir)[1:]\n",
    "PDBs.remove('.DS_Store')\n",
    "for PDB in PDBs:\n",
    "    print(PDB)\n",
    "    data_path = data_dir + PDB + \"/\"\n",
    "    result_path = result_dir + PDB + \"/\"\n",
    "    if not os.path.exists(result_path):\n",
    "        os.makedirs(result_path)\n",
    "    for f in os.listdir(data_path):\n",
    "        in_file = data_path+f\n",
    "        out_file = result_path + f.replace(\"pdbqt\",\"sdf\")\n",
    "        cmd = \"load \"+ in_file + \";save \" + out_file + \";delete all;\\n\"\n",
    "        cmds = cmds + cmd        \n",
    "#print(cmds)"
   ]
  },
  {
   "cell_type": "code",
   "execution_count": 35,
   "id": "29d94b83",
   "metadata": {},
   "outputs": [],
   "source": [
    "#write the .pml file with pymol command for SDF conversion   \n",
    "f = open(\"SDF_trans_test.pml\",\"w\")\n",
    "f.write(cmds)\n",
    "f.close()"
   ]
  },
  {
   "cell_type": "code",
   "execution_count": null,
   "id": "2d1dc2c4",
   "metadata": {},
   "outputs": [],
   "source": []
  }
 ],
 "metadata": {
  "kernelspec": {
   "display_name": "Python 3 (ipykernel)",
   "language": "python",
   "name": "python3"
  },
  "language_info": {
   "codemirror_mode": {
    "name": "ipython",
    "version": 3
   },
   "file_extension": ".py",
   "mimetype": "text/x-python",
   "name": "python",
   "nbconvert_exporter": "python",
   "pygments_lexer": "ipython3",
   "version": "3.9.7"
  }
 },
 "nbformat": 4,
 "nbformat_minor": 5
}
